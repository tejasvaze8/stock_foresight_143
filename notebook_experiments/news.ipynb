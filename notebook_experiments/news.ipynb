{
 "cells": [
  {
   "cell_type": "code",
   "execution_count": 40,
   "metadata": {},
   "outputs": [],
   "source": [
    "!pip install -q finnhub-python"
   ]
  },
  {
   "cell_type": "code",
   "execution_count": 5,
   "metadata": {},
   "outputs": [],
   "source": [
    "import requests\n",
    "from dotenv import load_dotenv\n",
    "import os\n",
    "from openai import OpenAI\n",
    "\n",
    "load_dotenv()\n",
    "FINNHUB_API_KEY = os.getenv(\"FINNHUB_API_KEY\")\n",
    "OPENAI_API_KEY = os.getenv(\"OPENAI_API_KEY\")\n",
    "\n",
    "openai_client = OpenAI(\n",
    "    base_url=\"https://api.openai.com/v1\",\n",
    "    api_key=OPENAI_API_KEY\n",
    ")"
   ]
  },
  {
   "cell_type": "code",
   "execution_count": 50,
   "metadata": {},
   "outputs": [],
   "source": [
    "import json\n",
    "\n",
    "function_schema = [\n",
    "    {\n",
    "        \"name\": \"analyze_news_sentiment\",\n",
    "        \"description\": \"Analyze the sentiment of a financial news article\",\n",
    "        \"parameters\": {\n",
    "            \"type\": \"object\",\n",
    "            \"properties\": {\n",
    "                \"title\": {\n",
    "                    \"type\": \"string\",\n",
    "                    \"description\": \"The title of the news article\"\n",
    "                },\n",
    "                \"sentiment\": {\n",
    "                    \"type\": \"string\",\n",
    "                    \"enum\": [\"positive\", \"negative\", \"neutral\"],\n",
    "                    \"description\": \"The sentiment of the article\"\n",
    "                },\n",
    "                \"score\": {\n",
    "                    \"type\": \"number\",\n",
    "                    \"minimum\": 0,\n",
    "                    \"maximum\": 100,\n",
    "                    \"description\": \"Sentiment score between 0 and 100 with one decimal places. 0.0 being most negative and 100.0 being most positive\"\n",
    "                },\n",
    "                \"related_score\": {\n",
    "                    \"type\": \"number\",\n",
    "                    \"minimum\": 0,\n",
    "                    \"maximum\": 10,\n",
    "                    \"description\": \"How related the article to the company. 0 being not related at all and 10 being very related\"\n",
    "                }\n",
    "            },\n",
    "            \"required\": [\"title\", \"sentiment\", \"score\", \"related_score\"]\n",
    "        }\n",
    "    }\n",
    "]\n",
    "\n",
    "\n",
    "def invoke_openai(prompt, model = 'gpt-4o-mini'):\n",
    "    for i in range(3):\n",
    "        try:\n",
    "            kwargs = {\n",
    "                    \"model\": model,\n",
    "                    \"messages\": [{\"role\": \"user\", \"content\": prompt}],\n",
    "                    \"temperature\": 0.0,\n",
    "                    # \"response_format\": {\"type\": \"json_object\"},\n",
    "                    \"functions\": function_schema,  # Add the function schema\n",
    "                    \"function_call\": {\"name\": \"analyze_news_sentiment\"}  # Force the function call        \n",
    "            }\n",
    "\n",
    "\n",
    "\n",
    "            response = openai_client.chat.completions.create(**kwargs)\n",
    "            function_response = response.choices[0].message.function_call.arguments\n",
    "            return json.loads(function_response)\n",
    "        \n",
    "        except Exception as e:\n",
    "            print(f\"Error: {e}\")\n",
    "            if i == 2:\n",
    "                print(\"FAILEDDDDD \\n\\n\\n\\n\")\n",
    "                return None\n"
   ]
  },
  {
   "cell_type": "code",
   "execution_count": 56,
   "metadata": {},
   "outputs": [
    {
     "name": "stdout",
     "output_type": "stream",
     "text": [
      "Title: Stock-Split Watch: 1 Under-the-Radar Growth Stock Up 510% Since the Beginning of 2023, Spotify has made its investors a fortune in the past two years.\n",
      "Sentiment: positive\n",
      "Score: 75.0\n",
      "Related Score: 2\n"
     ]
    }
   ],
   "source": [
    "news_title = \"Stock-Split Watch: 1 Under-the-Radar Growth Stock Up 510% Since the Beginning of 2023, Spotify has made its investors a fortune in the past two years. \"\n",
    "result = invoke_openai(f\"Analyze the sentiment of this article for the company Google(GOOG): {news_title}\")\n",
    "\n",
    "\n",
    "if result:\n",
    "    print(f\"Title: {result['title']}\")\n",
    "    print(f\"Sentiment: {result['sentiment']}\")\n",
    "    print(f\"Score: {result['score']}\")\n",
    "    print(f\"Related Score: {result['related_score']}\")"
   ]
  },
  {
   "cell_type": "code",
   "execution_count": 42,
   "metadata": {},
   "outputs": [],
   "source": [
    "import finnhub\n",
    "\n",
    "finnhub_client = finnhub.Client(api_key=FINNHUB_API_KEY)\n",
    "\n",
    "response = finnhub_client.company_news('GOOG', _from=\"2024-11-28\", to=\"2024-11-29\")\n"
   ]
  },
  {
   "cell_type": "code",
   "execution_count": 66,
   "metadata": {},
   "outputs": [
    {
     "data": {
      "text/plain": [
       "{'category': 'company',\n",
       " 'datetime': 1732788000,\n",
       " 'headline': 'Stock-Split Watch: 1 Under-the-Radar Growth Stock Up 510% Since the Beginning of 2023',\n",
       " 'id': 131682728,\n",
       " 'image': 'https://g.foolcdn.com/editorial/images/798924/billionaire.jpg',\n",
       " 'related': 'GOOG',\n",
       " 'source': 'Yahoo',\n",
       " 'summary': 'This leading streaming company has made its investors a fortune in the past two years.',\n",
       " 'url': 'https://finnhub.io/api/news?id=b456a67d2ad55cd0839b57bf0f4fc268acd6b98e1fada1649d90f92182819599'}"
      ]
     },
     "execution_count": 66,
     "metadata": {},
     "output_type": "execute_result"
    }
   ],
   "source": [
    "response[10]"
   ]
  },
  {
   "cell_type": "code",
   "execution_count": 68,
   "metadata": {},
   "outputs": [],
   "source": [
    "!pip install -q -U newspaper4k"
   ]
  },
  {
   "cell_type": "code",
   "execution_count": 60,
   "metadata": {},
   "outputs": [],
   "source": [
    "def scrape_site(url: str) -> str:\n",
    "    response = requests.get(\"https://r.jina.ai/\" + url)\n",
    "    return response.text\n",
    "\n",
    "with open(\"temp.txt\", \"w\") as f:\n",
    "    f.write(scrape_site(response[5]['url']))\n",
    "\n"
   ]
  },
  {
   "cell_type": "code",
   "execution_count": 81,
   "metadata": {},
   "outputs": [
    {
     "data": {
      "text/plain": [
       "{'title': 'Stock-Split Watch: 1 Under-the-Radar Growth Stock Up 510% Since the Beginning of 2023',\n",
       " 'sentiment': 'positive',\n",
       " 'score': 75.0,\n",
       " 'related_score': 8}"
      ]
     },
     "execution_count": 81,
     "metadata": {},
     "output_type": "execute_result"
    }
   ],
   "source": [
    "temp = scrape_site(response[10]['url'])\n",
    "invoke_openai(f\"Analyze the sentiment of this article for the company Google(GOOG): {temp}\")"
   ]
  },
  {
   "cell_type": "code",
   "execution_count": 79,
   "metadata": {},
   "outputs": [],
   "source": [
    "from newspaper import Article\n",
    "\n",
    "def newspaper_api(url: str):\n",
    "    article = Article(url)\n",
    "    article.download()\n",
    "    article.parse()\n",
    "    \n",
    "\n",
    "    return article.text"
   ]
  },
  {
   "cell_type": "code",
   "execution_count": 80,
   "metadata": {},
   "outputs": [
    {
     "data": {
      "text/plain": [
       "'Stock splits have been in vogue recently. Large technology companies like Amazon, Alphabet, Nvidia, and Tesla have split their stocks after seeing their share prices get close to $1,000 or more. This financial engineering tactic didn\\'t change anything about these stocks\\' underlying businesses, but it can make it easier for individual investors to buy a single share.\\n\\nOne potential stock-split candidate is Spotify (SPOT -0.29%). The audio streaming leader is up over 500% since the start of 2023, and the stock is now approaching $500 per share, or stock-split territory. Here\\'s why the stock has made a massive turnaround, and whether you should buy shares of Spotify after its big gains.\\n\\nEfficient spending, expanding margins\\n\\nMany investors will know Spotify as it is one of the most popular music and podcast streaming services worldwide. With 640 million monthly active users (MAUs), perhaps only YouTube has a larger reach around the world in this niche.\\n\\nSpotify mostly makes money by selling ad-free music listening through a subscription service. Premium subscription revenue has grown consistently since Spotify went public in 2018 with 24% growth on a foreign currency-neutral basis last quarter. In U.S. dollars, the segment is closing in on $15 billion in annual subscription revenue.\\n\\nInvestors were never concerned about Spotify\\'s revenue growth. The problems were around profitability. In the third quarter of 2023, Spotify\\'s gross margin was a measly 26.4%, not much higher than when it went public. Operating margin was only 1.0%, and it had been negative for many quarters before that. One year later, and the story has completely changed. Gross profit margin was 31.1% in Q3 2024 with operating margin exploding higher to 11.4%.\\n\\nSpotify was able to do this for a few reasons. First, it cut down on its full-time employees, trimming them by over 20% in the past year while seeing no effect on revenue growth. Second, it is seeing more revenue from its high-margin promotional marketplace, which is leading to gross margin expansion. Third, the company has started to raise prices on its subscription services, which -- along with the falling employee numbers -- has led to operating leverage and the double-digit operating margin.\\n\\nCan Spotify reach 1 billion users?\\n\\nGiven the stock\\'s rally and the platform\\'s 640 million MAUs, investors may worry Spotify will hit user saturation sometime soon. This may be true in its most mature markets like the Nordics (the first market it entered), but it\\'s nowhere near the case in the majority of countries around the world. Internet penetration in places such as India, Indonesia, and Latin America will continue to grow in the coming years, which should lead Spotify to more MAU gains.\\n\\nYou can see it in the company\\'s geographical user breakout. The \"Rest of World\" segment -- everywhere except The Americas and Europe -- was 19% of overall users in 2020. Last quarter, it reached 33% of MAUs, which equates to over 200 million MAUs. There are billions of potential customers in these countries, even if you exclude places like China, where Spotify doesn\\'t operate.\\n\\nBut will Spotify be able to monetize these users? They don\\'t have the wealth or income to pay the same subscription fees as a country like the United States, but it looks like there are people willing to pay up for ad-free listening in most countries around the world. In fact, premium subscribers grew at 12% year over year last quarter, which was faster than MAU growth.\\n\\nOn top of new premium users, Spotify should be able to raise prices consistently in more mature markets. It has raised prices in the United States twice over the last two years with minimal effect on churn figures. This indicates there is room for management to continue raising prices over the next decade, especially if the company keeps adding new features like audiobooks to increase the value of a Spotify subscription.\\n\\nStock-split watch: Should you buy the stock?\\n\\nSpotify may decide to split its stock in the future, but if you are thinking about buying shares in anticipation of a split, here\\'s the frank truth: A stock split is meaningless over the long term. Sure, a stock may rise in the lead-up to a stock split, but it has no bearing on how the underlying business is performing.\\n\\nBut earnings per share (EPS) and cash flow growth are key drivers of a stock\\'s long-term returns. Spotify\\'s free cash flow is soaring to record highs due to its cost cuts, hitting around $2 billion over the trailing 12 months. The stock has a market cap of about $95 billion as of this writing, meaning it trades at 48 times trailing free cash flow. And its valuation multiple soars even higher to nearly 130 when looking at trailing earnings per share.\\n\\nEven though Spotify has solid growth prospects over the next decade, this is an expensive stock following its incredible two-year rally. I\\'d suggest keeping this one on your watchlist.'"
      ]
     },
     "execution_count": 80,
     "metadata": {},
     "output_type": "execute_result"
    }
   ],
   "source": [
    "newspaper_api(response[10]['url'])"
   ]
  },
  {
   "cell_type": "code",
   "execution_count": 91,
   "metadata": {},
   "outputs": [],
   "source": [
    "from bs4 import BeautifulSoup\n",
    "def extract_article_text(url):\n",
    "    response = requests.get(url)\n",
    "    \n",
    "    if response.status_code != 200:\n",
    "        print(f\"Failed to retrieve the webpage. Status code: {response.status_code}\")\n",
    "        return None\n",
    "\n",
    "    soup = BeautifulSoup(response.content, 'html.parser')\n",
    "\n",
    "    # Try different methods to extract article content based on structure\n",
    "    article = soup.find('div', class_='article-body')  # Adjust based on actual website structure\n",
    "\n",
    "    if not article:\n",
    "        # Try using another common structure\n",
    "        article = soup.find('section', {'class': 'content'})  # Adjust for another tag/class\n",
    "    if not article:\n",
    "        # Try using CSS selectors to grab all text in relevant elements\n",
    "        article = soup.select('div.article-body p, div.article-body h1')\n",
    "\n",
    "    if article:\n",
    "        article_text = \" \".join([p.get_text(strip=True) for p in article])\n",
    "        return article_text\n",
    "    else:\n",
    "        print(\"No article text found.\")\n",
    "        return None"
   ]
  },
  {
   "cell_type": "code",
   "execution_count": 95,
   "metadata": {},
   "outputs": [
    {
     "name": "stdout",
     "output_type": "stream",
     "text": [
      "https://finnhub.io/api/news?id=41b103581ea2424564a0a2e2187afe9a5e8b6181f9ad5b0b08fe8e712b5f6105\n",
      "No article text found.\n",
      "Article 1: None\n",
      "https://finnhub.io/api/news?id=c93c3ddae129c3bade6df7631f64a4266cc1e1b5caa7238538fbe8b4891dc3dd\n",
      "Failed to retrieve the webpage. Status code: 403\n",
      "Article 2: None\n",
      "https://finnhub.io/api/news?id=b078074bac0dd975ab786b8568293484d566b101708e756f77639b94e1a275b1\n",
      "Failed to retrieve the webpage. Status code: 403\n",
      "Article 3: None\n",
      "https://finnhub.io/api/news?id=ec9f5a9e406757a7f960793a80e0201c51a0e924024543922a3b0c3789976ab6\n",
      "Failed to retrieve the webpage. Status code: 403\n",
      "Article 4: None\n",
      "https://finnhub.io/api/news?id=28fa8f486cec22f632895bc846bce32d1ab54a871a5ceef0e95383df0ad71449\n",
      "No article text found.\n",
      "Article 5: None\n",
      "https://finnhub.io/api/news?id=2cb58bcb156dc3d11a35cf70b1a756a2cc507dff95cc54ec63bde94da5a67922\n",
      "No article text found.\n",
      "Article 6: None\n",
      "https://finnhub.io/api/news?id=222559de650ff69a8b165e82829a2791208d66834b9c328fdfaae71419f4e915\n",
      "AAA\n",
      "Article 7:  Technology veteranIBM(IBM-0.83%)is catching some tailwinds nowadays. The stock has gained more than 45% over the last year, boosted by the market frenzy for artificial intelligence (AI) experts.  Big Blue has a few growth catalysts in its pocket. Are they enough to make IBM's stock a buy today?  Let's have a look.  IBM's growth catalysts  This experienced tech titan didn't rush into the currentgenerative AIboom. Instead, IBM took some time to set up a sustainable service model for large-scale corporate clients.  The resulting watsonx platform, launched in the spring of 2023, can tap into each customers proprietary business data with rock-solid security. Clients can also trace the path of generated statements and images through the watsonx system, which is important for proper auditing of the data flows. Consumers would shrug and walk away from these features, but they are what your corporate IT managers crave.   Just six quarters later, IBM has built a $3 billion book of watsonx orders. That includes a $1 billion jump in the third quarter of 2024.  This is a very IBM-like future revenue stream. Only 20% of the long-term watsonx service contract values so far have been for the generative AI software itself. The remaining 80% is all about consulting services to help IBM customers make the most of their AI spending.   This is a unique business advantage. AI software rivals like OpenAI andAlphabet(GOOG0.12%)(GOOGL0.07%)can't match Big Blue's consulting expertise.  The explosive watsonx business should become an important growth driver for IBM over the years. Those billion-dollar orders will convert into revenue on the income statement one annual or quarterly payment at a time. Meanwhile, IBM has a plethora of other business drivers ready to go. Here's how IBM CFO Jim Kavanaugh outlined the opportunities in the third-quarterearnings call:   \"We are confident in our portfolio and growth trajectory as we head into 2025 given the acceleration in Software, the opportunities ahead of us in Red Hat, our new mainframe cycle and associated hardware and software stack, our generative AI positioning and contribution from acquisitions.\"    Slow and steady wins the AI race (but worries investors)  A 45% one-year gain is a substantial jump, but other AI specialists have seen far greater returns recently. AI hardware designerNvidia(NVDA-1.15%)stock has gained 184% in 52 weeks. AI-based data analytics expertPalantir(PLTR0.47%)soared 244% over the same period. And IBM didn't receive that kind of Wall Street love.  Market makers can be impatient, and IBM isn't rushing its AI strategy. Why should they, given the company's decades of leading-edge AI research and expertise? Focusing on generative AI is a plot twist, but one IBM should be equipped to tackle. So the big AI business will arrive a bit later, while investors excited aboutChatGPTand AI-generated photos push a more consumer-oriented bunch of AI stocks to the stratosphere.  Patience is a virtue, especially on Wall Street. I can't say that IBM will catch up to the Palantirs and Nvidias of the world in 2025, but the journey has started and should accelerate in the next couple of years. Give those booked orders some time to generate cash-based revenues.   IBM: a quiet, undervalued leader in the roaring AI sector  The lack of soaring stock market action puts IBM in a rare position. I'm thrilled about the company's long-term growth prospects and up-to-the-minute AI focus.  At the same time, the stock trades at a very affordable 3.4 times sales and 17 times free cash flows. Big Blue's stock price could multiply more than five-fold and still look affordable next to Palantir.  My two takeaways from this situation are that Palantir might be overdue for a price correction, and that IBM's stock deserves a richer valuation. Long story short, I highly recommend buying some IBM stock whilethe shares are undervalued.   \n",
      "https://finnhub.io/api/news?id=35e35f79c79b6e67be3f5bd0ac380af6ab93088516e23fdce149deb736d7610d\n",
      "No article text found.\n",
      "Article 8: None\n",
      "https://finnhub.io/api/news?id=76fdf961d575a4ee1b622b8fbf13422d035e2baaccc3f305144d523ed600f266\n",
      "Failed to retrieve the webpage. Status code: 403\n",
      "Article 9: None\n",
      "https://finnhub.io/api/news?id=9ea7ebf91fb2ea94ac333c660b430f50ece1828a3ec3cf05a42a4cfd34364a6a\n",
      "No article text found.\n",
      "Article 10: None\n"
     ]
    }
   ],
   "source": [
    "for i in range(10):\n",
    "    print(response[i]['url'])\n",
    "    print(f\"Article {i+1}: {extract_article_text(response[i]['url'])}\")"
   ]
  }
 ],
 "metadata": {
  "kernelspec": {
   "display_name": "base",
   "language": "python",
   "name": "python3"
  },
  "language_info": {
   "codemirror_mode": {
    "name": "ipython",
    "version": 3
   },
   "file_extension": ".py",
   "mimetype": "text/x-python",
   "name": "python",
   "nbconvert_exporter": "python",
   "pygments_lexer": "ipython3",
   "version": "undefined.undefined.undefined"
  }
 },
 "nbformat": 4,
 "nbformat_minor": 2
}
