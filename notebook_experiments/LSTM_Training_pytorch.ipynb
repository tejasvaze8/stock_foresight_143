{
  "cells": [
    {
      "cell_type": "code",
      "execution_count": null,
      "metadata": {
        "id": "p99C7aICVvEX"
      },
      "outputs": [],
      "source": [
        "!pip install -q -U datasets torch imbalanced-learn transformers"
      ]
    },
    {
      "cell_type": "code",
      "execution_count": null,
      "metadata": {
        "colab": {
          "base_uri": "https://localhost:8080/"
        },
        "id": "MXF1KtZlVvEa",
        "outputId": "974f009c-476b-4912-c0fe-83300a79b473"
      },
      "outputs": [
        {
          "output_type": "stream",
          "name": "stderr",
          "text": [
            "/usr/local/lib/python3.10/dist-packages/huggingface_hub/utils/_auth.py:94: UserWarning: \n",
            "The secret `HF_TOKEN` does not exist in your Colab secrets.\n",
            "To authenticate with the Hugging Face Hub, create a token in your settings tab (https://huggingface.co/settings/tokens), set it as secret in your Google Colab and restart your session.\n",
            "You will be able to reuse this secret in all of your notebooks.\n",
            "Please note that authentication is recommended but still optional to access public models or datasets.\n",
            "  warnings.warn(\n"
          ]
        }
      ],
      "source": [
        "from datasets import load_dataset\n",
        "\n",
        "dataset = load_dataset(\"takala/financial_phrasebank\", \"sentences_50agree\", trust_remote_code = True)\n",
        "\n"
      ]
    },
    {
      "cell_type": "code",
      "source": [
        "dataset"
      ],
      "metadata": {
        "colab": {
          "base_uri": "https://localhost:8080/"
        },
        "id": "egIX-gs09aSd",
        "outputId": "93ae1051-75a9-4445-c283-42617200b53e"
      },
      "execution_count": null,
      "outputs": [
        {
          "output_type": "execute_result",
          "data": {
            "text/plain": [
              "DatasetDict({\n",
              "    train: Dataset({\n",
              "        features: ['sentence', 'label'],\n",
              "        num_rows: 4846\n",
              "    })\n",
              "})"
            ]
          },
          "metadata": {},
          "execution_count": 3
        }
      ]
    },
    {
      "cell_type": "markdown",
      "metadata": {
        "id": "xOGIlqGEVvEf"
      },
      "source": [
        "## Preprocess using Pretrained tokenizer\n"
      ]
    },
    {
      "cell_type": "code",
      "execution_count": null,
      "metadata": {
        "id": "KZX79R5RVvEf"
      },
      "outputs": [],
      "source": [
        "from transformers import AutoTokenizer\n",
        "\n",
        "# Replace 'bert-base-uncased' with your specific model's name\n",
        "tokenizer = AutoTokenizer.from_pretrained('bert-base-uncased')"
      ]
    },
    {
      "cell_type": "code",
      "execution_count": null,
      "metadata": {
        "id": "qGyI5yy8VvEf"
      },
      "outputs": [],
      "source": [
        "def tokenize_function(examples):\n",
        "    return tokenizer(\n",
        "        examples['sentence'],   # Adjust key based on your dataset\n",
        "        padding=\"max_length\",  # Pad to max_length (helps batching)\n",
        "        truncation=True,       # Truncate sequences longer than max_length\n",
        "        max_length=128         # Set a suitable max_length\n",
        "\n",
        "    )\n",
        "\n",
        "# Tokenize the dataset\n",
        "tokenized_dataset = dataset.map(tokenize_function, batched=True)"
      ]
    },
    {
      "cell_type": "code",
      "source": [
        "split_dataset = tokenized_dataset['train'].train_test_split(test_size=0.2)\n",
        "\n",
        "train_data = split_dataset['train']\n",
        "test_data = split_dataset['test']\n",
        "\n",
        "\n",
        "\n",
        "# Set the format for PyTorch tensors\n",
        "train_data.set_format(type='torch', columns=['input_ids', 'attention_mask', 'label'])\n",
        "test_data.set_format(type='torch', columns=['input_ids', 'attention_mask', 'label'])"
      ],
      "metadata": {
        "id": "2w2wwZsl8Ucn"
      },
      "execution_count": null,
      "outputs": []
    },
    {
      "cell_type": "code",
      "execution_count": null,
      "metadata": {
        "colab": {
          "base_uri": "https://localhost:8080/"
        },
        "id": "eNHeX-wwVvEf",
        "outputId": "f633c90d-ba20-428b-d71c-6a223d316e10"
      },
      "outputs": [
        {
          "output_type": "stream",
          "name": "stdout",
          "text": [
            "\n",
            "New balanced distribution:\n",
            "Negative (Label 0): 488 reviews\n",
            "Neutral (Label 1): 488 reviews\n",
            "Positive (Label 2): 488 reviews\n",
            "\n",
            "Original dataset size: 3876\n",
            "Balanced dataset size: 1464\n"
          ]
        }
      ],
      "source": [
        "import torch\n",
        "import random\n",
        "\n",
        "# First, separate examples by label\n",
        "label_0_indices = [i for i, label in enumerate(train_data['label']) if label == 0]\n",
        "label_1_indices = [i for i, label in enumerate(train_data['label']) if label == 1]\n",
        "label_2_indices = [i for i, label in enumerate(train_data['label']) if label == 2]\n",
        "\n",
        "# Find the size of the smallest class\n",
        "min_size = min(len(label_0_indices), len(label_1_indices), len(label_2_indices))\n",
        "\n",
        "# Randomly sample from each class to get equal numbers\n",
        "random.seed(42)  # for reproducibility\n",
        "balanced_0_indices = random.sample(label_0_indices, min_size)\n",
        "balanced_1_indices = random.sample(label_1_indices, min_size)\n",
        "balanced_2_indices = random.sample(label_2_indices, min_size)\n",
        "\n",
        "# Combine all indices and create new balanced dataset\n",
        "all_balanced_indices = balanced_0_indices + balanced_1_indices + balanced_2_indices\n",
        "balanced_train_data = train_data.select(all_balanced_indices)\n",
        "\n",
        "# Verify the new distribution\n",
        "unique_labels, counts = torch.unique(balanced_train_data['label'], return_counts=True)\n",
        "print(\"\\nNew balanced distribution:\")\n",
        "for label, count in zip(unique_labels, counts):\n",
        "    sentiment = \"Negative\" if label == 0 else \"Neutral\" if label == 1 else \"Positive\"\n",
        "    print(f\"{sentiment} (Label {label}): {count.item()} reviews\")\n",
        "\n",
        "# Print total sizes\n",
        "print(f\"\\nOriginal dataset size: {len(train_data)}\")\n",
        "print(f\"Balanced dataset size: {len(balanced_train_data)}\")\n",
        "\n",
        "train_data = balanced_train_data\n"
      ]
    },
    {
      "cell_type": "code",
      "execution_count": null,
      "metadata": {
        "colab": {
          "base_uri": "https://localhost:8080/"
        },
        "id": "m944A5skVvEg",
        "outputId": "1c701a44-9be2-4336-d3fa-a9868ccbfaa9"
      },
      "outputs": [
        {
          "output_type": "stream",
          "name": "stdout",
          "text": [
            "First 10 labels after shuffling: [2, 2, 0, 0, 2, 2, 0, 2, 2, 1]\n"
          ]
        }
      ],
      "source": [
        "# Get all indices in random order\n",
        "indices = torch.randperm(len(train_data)).tolist()\n",
        "\n",
        "# Shuffle the dataset using these indices\n",
        "train_data = train_data.select(indices)\n",
        "\n",
        "# Verify it's shuffled by printing first 10 labels\n",
        "print(\"First 10 labels after shuffling:\", train_data['label'][:10].tolist())\n"
      ]
    },
    {
      "cell_type": "markdown",
      "source": [
        "## Model Training"
      ],
      "metadata": {
        "id": "rA18qONYZpa7"
      }
    },
    {
      "cell_type": "code",
      "source": [
        "import torch\n",
        "import torch.nn as nn\n",
        "import torch.optim as optim\n",
        "import torch.nn.functional as F\n",
        "from torch.utils.data import DataLoader, TensorDataset\n",
        "import numpy as np\n",
        "from sklearn.metrics import classification_report\n",
        "import random\n",
        "\n",
        "class LSTMModel(nn.Module):\n",
        "    def __init__(self, vocab_size, embedding_dim=256, hidden_size=128, num_layers=2, num_classes=3, dropout_rate=0.3):\n",
        "        super(LSTMModel, self).__init__()\n",
        "\n",
        "        # Embedding layer\n",
        "        self.embedding = nn.Embedding(vocab_size, embedding_dim, padding_idx=0)\n",
        "\n",
        "        # LSTM Layer\n",
        "        self.lstm = nn.LSTM(\n",
        "            input_size=embedding_dim,\n",
        "            hidden_size=hidden_size,\n",
        "            num_layers=num_layers,\n",
        "            batch_first=True,\n",
        "            dropout=dropout_rate if num_layers > 1 else 0,\n",
        "            bidirectional=True\n",
        "        )\n",
        "\n",
        "        # Attention mechanism\n",
        "        self.attention = nn.Linear(hidden_size * 2, 1)\n",
        "\n",
        "        # Dropout and normalization\n",
        "        self.dropout = nn.Dropout(dropout_rate)\n",
        "\n",
        "        # Fully connected layers\n",
        "        self.fc1 = nn.Linear(hidden_size * 2, hidden_size)\n",
        "        self.fc2 = nn.Linear(hidden_size, num_classes)\n",
        "\n",
        "        # Layer normalization\n",
        "        self.layer_norm = nn.LayerNorm(hidden_size)\n",
        "\n",
        "    def attention_net(self, lstm_output, attention_mask):\n",
        "        # Calculate attention scores\n",
        "        attention_weights = self.attention(lstm_output)\n",
        "        attention_weights = attention_weights.squeeze(-1)\n",
        "\n",
        "        # Apply attention mask\n",
        "        attention_weights = attention_weights.masked_fill(~attention_mask, float('-inf'))\n",
        "        attention_weights = torch.softmax(attention_weights, dim=1)\n",
        "\n",
        "        # Apply attention to LSTM output\n",
        "        context = torch.bmm(attention_weights.unsqueeze(1), lstm_output)\n",
        "        return context.squeeze(1)\n",
        "\n",
        "    def forward(self, input_ids, attention_mask):\n",
        "        # Embedding\n",
        "        embedded = self.embedding(input_ids)\n",
        "\n",
        "        # LSTM\n",
        "        lstm_output, _ = self.lstm(embedded)\n",
        "\n",
        "        # Attention\n",
        "        context = self.attention_net(lstm_output, attention_mask.bool())\n",
        "\n",
        "        # Fully connected layers with residual connections\n",
        "        x = self.dropout(context)\n",
        "        x = F.relu(self.fc1(x))\n",
        "        x = self.layer_norm(x)\n",
        "        x = self.dropout(x)\n",
        "        x = self.fc2(x)\n",
        "\n",
        "        return x\n",
        "\n",
        "def train_epoch(model, train_loader, criterion, optimizer, device):\n",
        "    model.train()\n",
        "    total_loss = 0\n",
        "    total_correct = 0\n",
        "    total_samples = 0\n",
        "\n",
        "    for batch in train_loader:\n",
        "        input_ids = batch[0].to(device)\n",
        "        attention_mask = batch[1].to(device)\n",
        "        labels = batch[2].to(device)\n",
        "\n",
        "        optimizer.zero_grad()\n",
        "        outputs = model(input_ids, attention_mask)\n",
        "        loss = criterion(outputs, labels)\n",
        "\n",
        "        loss.backward()\n",
        "        torch.nn.utils.clip_grad_norm_(model.parameters(), max_norm=1.0)\n",
        "        optimizer.step()\n",
        "\n",
        "        total_loss += loss.item()\n",
        "        _, predicted = torch.max(outputs, 1)\n",
        "        total_correct += (predicted == labels).sum().item()\n",
        "        total_samples += labels.size(0)\n",
        "\n",
        "    return total_loss / len(train_loader), total_correct / total_samples\n",
        "\n",
        "def evaluate(model, test_loader, criterion, device):\n",
        "    model.eval()\n",
        "    total_loss = 0\n",
        "    predictions = []\n",
        "    true_labels = []\n",
        "\n",
        "    with torch.no_grad():\n",
        "        for batch in test_loader:\n",
        "            input_ids = batch[0].to(device)\n",
        "            attention_mask = batch[1].to(device)\n",
        "            labels = batch[2].to(device)\n",
        "\n",
        "            outputs = model(input_ids, attention_mask)\n",
        "            loss = criterion(outputs, labels)\n",
        "\n",
        "            total_loss += loss.item()\n",
        "            _, predicted = torch.max(outputs, 1)\n",
        "\n",
        "            predictions.extend(predicted.cpu().numpy())\n",
        "            true_labels.extend(labels.cpu().numpy())\n",
        "\n",
        "    return (total_loss / len(test_loader),\n",
        "            classification_report(true_labels, predictions, digits=4))\n",
        "\n",
        "# Training setup\n",
        "def prepare_dataloaders(train_data, test_data, batch_size=32):\n",
        "    train_dataset = TensorDataset(\n",
        "        train_data['input_ids'],\n",
        "        train_data['attention_mask'],\n",
        "        train_data['label']\n",
        "    )\n",
        "\n",
        "    test_dataset = TensorDataset(\n",
        "        test_data['input_ids'],\n",
        "        test_data['attention_mask'],\n",
        "        test_data['label']\n",
        "    )\n",
        "\n",
        "    train_loader = DataLoader(train_dataset, batch_size=batch_size, shuffle=True)\n",
        "    test_loader = DataLoader(test_dataset, batch_size=batch_size)\n",
        "\n",
        "    return train_loader, test_loader\n",
        "\n",
        "# Separate model config from training config\n",
        "model_config = {\n",
        "    'vocab_size': tokenizer.vocab_size,\n",
        "    'embedding_dim': 512,\n",
        "    'hidden_size': 128,\n",
        "    'num_layers': 1,\n",
        "    'num_classes': 3,\n",
        "    'dropout_rate': 0.5\n",
        "}\n",
        "\n",
        "training_config = {\n",
        "    'learning_rate': 0.0005,\n",
        "    'batch_size': 32,\n",
        "    'num_epochs': 10\n",
        "}\n",
        "# Initialize model and training components\n",
        "device = torch.device('cuda' if torch.cuda.is_available() else 'cpu')\n",
        "model = LSTMModel(**model_config).to(device)\n",
        "criterion = nn.CrossEntropyLoss()\n",
        "optimizer = optim.AdamW(model.parameters(), lr=training_config['learning_rate'])\n",
        "scheduler = optim.lr_scheduler.ReduceLROnPlateau(optimizer, mode='min', patience=2, factor=0.5)\n",
        "\n",
        "# Prepare data loaders\n",
        "train_loader, test_loader = prepare_dataloaders(train_data, test_data, training_config['batch_size'])\n"
      ],
      "metadata": {
        "id": "Q-3YjiZPFskV"
      },
      "execution_count": null,
      "outputs": []
    },
    {
      "cell_type": "code",
      "source": [
        "# Train Loop\n",
        "best_val_loss = float('inf')\n",
        "for epoch in range(training_config['num_epochs']):\n",
        "    train_loss, train_acc = train_epoch(model, train_loader, criterion, optimizer, device)\n",
        "    val_loss, val_report = evaluate(model, test_loader, criterion, device)\n",
        "\n",
        "    scheduler.step(val_loss)\n",
        "\n",
        "    print(f'Epoch {epoch+1}/{training_config[\"num_epochs\"]}:')\n",
        "    print(f'Train Loss: {train_loss:.4f}, Train Acc: {train_acc:.4f}')\n",
        "    print(f'Val Loss: {val_loss:.4f}')\n",
        "    print('Validation Report:')\n",
        "    print(val_report)\n",
        "    print('-' * 60)\n",
        "\n",
        "    if val_loss < best_val_loss:\n",
        "        best_val_loss = val_loss\n",
        "        torch.save(model.state_dict(), 'best_model.pt')"
      ],
      "metadata": {
        "colab": {
          "base_uri": "https://localhost:8080/"
        },
        "id": "ZftJQ2iwTfoG",
        "outputId": "b5c0ad64-ac61-4258-907a-4eb430bd23b0"
      },
      "execution_count": null,
      "outputs": [
        {
          "output_type": "stream",
          "name": "stdout",
          "text": [
            "Epoch 1/10:\n",
            "Train Loss: 1.1453, Train Acc: 0.3921\n",
            "Val Loss: 0.9226\n",
            "Validation Report:\n",
            "              precision    recall  f1-score   support\n",
            "\n",
            "           0     0.3471    0.5086    0.4126       116\n",
            "           1     0.7258    0.7745    0.7494       581\n",
            "           2     0.4389    0.2894    0.3488       273\n",
            "\n",
            "    accuracy                         0.6062       970\n",
            "   macro avg     0.5039    0.5242    0.5036       970\n",
            "weighted avg     0.5998    0.6062    0.5964       970\n",
            "\n",
            "------------------------------------------------------------\n",
            "Epoch 2/10:\n",
            "Train Loss: 0.9468, Train Acc: 0.5376\n",
            "Val Loss: 0.8891\n",
            "Validation Report:\n",
            "              precision    recall  f1-score   support\n",
            "\n",
            "           0     0.3744    0.6293    0.4695       116\n",
            "           1     0.7962    0.6523    0.7171       581\n",
            "           2     0.4281    0.4689    0.4476       273\n",
            "\n",
            "    accuracy                         0.5979       970\n",
            "   macro avg     0.5329    0.5835    0.5447       970\n",
            "weighted avg     0.6422    0.5979    0.6116       970\n",
            "\n",
            "------------------------------------------------------------\n",
            "Epoch 3/10:\n",
            "Train Loss: 0.8073, Train Acc: 0.6182\n",
            "Val Loss: 0.8252\n",
            "Validation Report:\n",
            "              precision    recall  f1-score   support\n",
            "\n",
            "           0     0.3936    0.6379    0.4868       116\n",
            "           1     0.7816    0.7022    0.7398       581\n",
            "           2     0.4923    0.4689    0.4803       273\n",
            "\n",
            "    accuracy                         0.6289       970\n",
            "   macro avg     0.5558    0.6030    0.5690       970\n",
            "weighted avg     0.6538    0.6289    0.6365       970\n",
            "\n",
            "------------------------------------------------------------\n",
            "Epoch 4/10:\n",
            "Train Loss: 0.6194, Train Acc: 0.7363\n",
            "Val Loss: 0.8971\n",
            "Validation Report:\n",
            "              precision    recall  f1-score   support\n",
            "\n",
            "           0     0.4479    0.6293    0.5233       116\n",
            "           1     0.8232    0.5370    0.6500       581\n",
            "           2     0.4393    0.6886    0.5364       273\n",
            "\n",
            "    accuracy                         0.5907       970\n",
            "   macro avg     0.5701    0.6183    0.5699       970\n",
            "weighted avg     0.6703    0.5907    0.6029       970\n",
            "\n",
            "------------------------------------------------------------\n",
            "Epoch 5/10:\n",
            "Train Loss: 0.4459, Train Acc: 0.8292\n",
            "Val Loss: 0.9274\n",
            "Validation Report:\n",
            "              precision    recall  f1-score   support\n",
            "\n",
            "           0     0.4213    0.7845    0.5482       116\n",
            "           1     0.8087    0.6403    0.7147       581\n",
            "           2     0.5340    0.5751    0.5538       273\n",
            "\n",
            "    accuracy                         0.6392       970\n",
            "   macro avg     0.5880    0.6666    0.6056       970\n",
            "weighted avg     0.6851    0.6392    0.6495       970\n",
            "\n",
            "------------------------------------------------------------\n",
            "Epoch 6/10:\n",
            "Train Loss: 0.3016, Train Acc: 0.8955\n",
            "Val Loss: 0.9222\n",
            "Validation Report:\n",
            "              precision    recall  f1-score   support\n",
            "\n",
            "           0     0.5060    0.7328    0.5986       116\n",
            "           1     0.7837    0.7298    0.7558       581\n",
            "           2     0.5670    0.5421    0.5543       273\n",
            "\n",
            "    accuracy                         0.6773       970\n",
            "   macro avg     0.6189    0.6682    0.6362       970\n",
            "weighted avg     0.6895    0.6773    0.6803       970\n",
            "\n",
            "------------------------------------------------------------\n",
            "Epoch 7/10:\n",
            "Train Loss: 0.1829, Train Acc: 0.9440\n",
            "Val Loss: 1.0919\n",
            "Validation Report:\n",
            "              precision    recall  f1-score   support\n",
            "\n",
            "           0     0.4607    0.7069    0.5578       116\n",
            "           1     0.7995    0.6041    0.6882       581\n",
            "           2     0.4986    0.6447    0.5623       273\n",
            "\n",
            "    accuracy                         0.6278       970\n",
            "   macro avg     0.5863    0.6519    0.6028       970\n",
            "weighted avg     0.6743    0.6278    0.6372       970\n",
            "\n",
            "------------------------------------------------------------\n",
            "Epoch 8/10:\n",
            "Train Loss: 0.1192, Train Acc: 0.9645\n",
            "Val Loss: 1.1460\n",
            "Validation Report:\n",
            "              precision    recall  f1-score   support\n",
            "\n",
            "           0     0.5325    0.7069    0.6074       116\n",
            "           1     0.8083    0.6386    0.7135       581\n",
            "           2     0.5126    0.6703    0.5810       273\n",
            "\n",
            "    accuracy                         0.6557       970\n",
            "   macro avg     0.6178    0.6719    0.6339       970\n",
            "weighted avg     0.6921    0.6557    0.6635       970\n",
            "\n",
            "------------------------------------------------------------\n",
            "Epoch 9/10:\n",
            "Train Loss: 0.0834, Train Acc: 0.9816\n",
            "Val Loss: 1.2670\n",
            "Validation Report:\n",
            "              precision    recall  f1-score   support\n",
            "\n",
            "           0     0.4940    0.7155    0.5845       116\n",
            "           1     0.8058    0.6644    0.7283       581\n",
            "           2     0.5294    0.6264    0.5738       273\n",
            "\n",
            "    accuracy                         0.6598       970\n",
            "   macro avg     0.6098    0.6688    0.6289       970\n",
            "weighted avg     0.6908    0.6598    0.6676       970\n",
            "\n",
            "------------------------------------------------------------\n",
            "Epoch 10/10:\n",
            "Train Loss: 0.0569, Train Acc: 0.9870\n",
            "Val Loss: 1.3523\n",
            "Validation Report:\n",
            "              precision    recall  f1-score   support\n",
            "\n",
            "           0     0.4670    0.7328    0.5705       116\n",
            "           1     0.8086    0.6472    0.7189       581\n",
            "           2     0.5263    0.6227    0.5705       273\n",
            "\n",
            "    accuracy                         0.6505       970\n",
            "   macro avg     0.6007    0.6675    0.6200       970\n",
            "weighted avg     0.6883    0.6505    0.6594       970\n",
            "\n",
            "------------------------------------------------------------\n"
          ]
        }
      ]
    },
    {
      "cell_type": "markdown",
      "source": [
        "## Test Model"
      ],
      "metadata": {
        "id": "4IHOtVBDZxGa"
      }
    },
    {
      "cell_type": "code",
      "source": [
        "import torch\n",
        "import torch.nn as nn\n",
        "from sklearn.metrics import classification_report, confusion_matrix\n",
        "import seaborn as sns\n",
        "import matplotlib.pyplot as plt\n",
        "import numpy as np\n",
        "import pandas as pd\n",
        "\n",
        "def evaluate_model(model, test_loader, device):\n",
        "    model.eval()\n",
        "    all_predictions = []\n",
        "    all_labels = []\n",
        "    all_probs = []\n",
        "\n",
        "    with torch.no_grad():\n",
        "        for batch in test_loader:\n",
        "            input_ids = batch[0].to(device)\n",
        "            attention_mask = batch[1].to(device)\n",
        "            labels = batch[2].to(device)\n",
        "\n",
        "            outputs = model(input_ids, attention_mask)\n",
        "            probabilities = torch.softmax(outputs, dim=1)\n",
        "            _, predicted = torch.max(outputs, 1)\n",
        "\n",
        "            all_predictions.extend(predicted.cpu().numpy())\n",
        "            all_labels.extend(labels.cpu().numpy())\n",
        "            all_probs.extend(probabilities.cpu().numpy())\n",
        "\n",
        "    return np.array(all_predictions), np.array(all_labels), np.array(all_probs)\n",
        "\n",
        "def plot_confusion_matrix(y_true, y_pred):\n",
        "    cm = confusion_matrix(y_true, y_pred)\n",
        "    plt.figure(figsize=(10, 8))\n",
        "    sns.heatmap(cm, annot=True, fmt='d', cmap='Blues')\n",
        "    plt.title('Confusion Matrix')\n",
        "    plt.ylabel('True Label')\n",
        "    plt.xlabel('Predicted Label')\n",
        "    plt.show()\n",
        "\n",
        "def get_example_predictions(test_data, predictions, probabilities, n=10):\n",
        "    examples = []\n",
        "    for i in range(len(predictions)):\n",
        "        examples.append({\n",
        "            'text': tokenizer.decode(test_data['input_ids'][i]),\n",
        "            'true_label': test_data['label'][i].item(),\n",
        "            'predicted_label': predictions[i],\n",
        "            'confidence': max(probabilities[i]) * 100\n",
        "        })\n",
        "\n",
        "    # Sort by confidence\n",
        "    examples.sort(key=lambda x: x['confidence'], reverse=True)\n",
        "    return examples[:n]\n",
        "\n",
        "# Load the best model\n",
        "model = LSTMModel(**model_config).to(device)\n",
        "model.load_state_dict(torch.load('/content/best_model.pt'))\n",
        "model.to(device)\n",
        "\n",
        "# Get predictions\n",
        "predictions, true_labels, probabilities = evaluate_model(model, test_loader, device)\n",
        "\n",
        "# Print classification report\n",
        "print(\"Classification Report:\")\n",
        "print(classification_report(true_labels, predictions, digits=4))\n",
        "\n",
        "# Plot confusion matrix\n",
        "plot_confusion_matrix(true_labels, predictions)\n",
        "\n",
        "# Print some example predictions\n",
        "print(\"\\nExample Predictions:\")\n",
        "examples = get_example_predictions(test_data, predictions, probabilities)\n",
        "for i, example in enumerate(examples, 1):\n",
        "    sentiment = \"Negative\" if example['predicted_label'] == 0 else \"Neutral\" if example['predicted_label'] == 1 else \"Positive\"\n",
        "    correct = \"✓\" if example['predicted_label'] == example['true_label'] else \"✗\"\n",
        "\n",
        "    print(f\"\\nExample {i} [{correct}]\")\n",
        "    print(f\"Text: {example['text']}\")\n",
        "    print(f\"True Label: {example['true_label']}\")\n",
        "    print(f\"Predicted: {sentiment} (Confidence: {example['confidence']:.2f}%)\")\n",
        "\n",
        "# Calculate per-class accuracy\n",
        "for i in range(3):\n",
        "    mask = true_labels == i\n",
        "    class_acc = (predictions[mask] == true_labels[mask]).mean()\n",
        "    sentiment = \"Negative\" if i == 0 else \"Neutral\" if i == 1 else \"Positive\"\n",
        "    print(f\"\\n{sentiment} Class Accuracy: {class_acc:.4f}\")\n",
        "\n",
        "# Calculate overall accuracy\n",
        "accuracy = (predictions == true_labels).mean()\n",
        "print(f\"\\nOverall Accuracy: {accuracy:.4f}\")\n",
        "\n",
        "# Save predictions to DataFrame\n",
        "results_df = pd.DataFrame({\n",
        "    'Text': [tokenizer.decode(ids) for ids in test_data['input_ids']],\n",
        "    'True_Label': true_labels,\n",
        "    'Predicted_Label': predictions,\n",
        "    'Confidence': np.max(probabilities, axis=1)\n",
        "})\n",
        "\n",
        "# Save to CSV\n",
        "results_df.to_csv('test_predictions.csv', index=False)"
      ],
      "metadata": {
        "colab": {
          "base_uri": "https://localhost:8080/",
          "height": 1000
        },
        "id": "bWabnftbF2wY",
        "outputId": "7d4c83dc-c5fb-4157-9717-622d31a1a3b1"
      },
      "execution_count": null,
      "outputs": [
        {
          "output_type": "stream",
          "name": "stderr",
          "text": [
            "<ipython-input-11-e3148c26c12f>:56: FutureWarning: You are using `torch.load` with `weights_only=False` (the current default value), which uses the default pickle module implicitly. It is possible to construct malicious pickle data which will execute arbitrary code during unpickling (See https://github.com/pytorch/pytorch/blob/main/SECURITY.md#untrusted-models for more details). In a future release, the default value for `weights_only` will be flipped to `True`. This limits the functions that could be executed during unpickling. Arbitrary objects will no longer be allowed to be loaded via this mode unless they are explicitly allowlisted by the user via `torch.serialization.add_safe_globals`. We recommend you start setting `weights_only=True` for any use case where you don't have full control of the loaded file. Please open an issue on GitHub for any issues related to this experimental feature.\n",
            "  model.load_state_dict(torch.load('/content/best_model.pt'))\n"
          ]
        },
        {
          "output_type": "stream",
          "name": "stdout",
          "text": [
            "Classification Report:\n",
            "              precision    recall  f1-score   support\n",
            "\n",
            "           0     0.3936    0.6379    0.4868       116\n",
            "           1     0.7816    0.7022    0.7398       581\n",
            "           2     0.4923    0.4689    0.4803       273\n",
            "\n",
            "    accuracy                         0.6289       970\n",
            "   macro avg     0.5558    0.6030    0.5690       970\n",
            "weighted avg     0.6538    0.6289    0.6365       970\n",
            "\n"
          ]
        },
        {
          "output_type": "display_data",
          "data": {
            "text/plain": [
              "<Figure size 1000x800 with 2 Axes>"
            ],
            "image/png": "[encoded data removed]"
          },
          "metadata": {}
        },
        {
          "output_type": "stream",
          "name": "stdout",
          "text": [
            "\n",
            "Example Predictions:\n",
            "\n",
            "Example 1 [✓]\n",
            "Text: [CLS] operating loss totalled eur 0. 3 mn, down from a profit of eur 5. 1 mn in the first half of 2009. [SEP] [PAD] [PAD] [PAD] [PAD] [PAD] [PAD] [PAD] [PAD] [PAD] [PAD] [PAD] [PAD] [PAD] [PAD] [PAD] [PAD] [PAD] [PAD] [PAD] [PAD] [PAD] [PAD] [PAD] [PAD] [PAD] [PAD] [PAD] [PAD] [PAD] [PAD] [PAD] [PAD] [PAD] [PAD] [PAD] [PAD] [PAD] [PAD] [PAD] [PAD] [PAD] [PAD] [PAD] [PAD] [PAD] [PAD] [PAD] [PAD] [PAD] [PAD] [PAD] [PAD] [PAD] [PAD] [PAD] [PAD] [PAD] [PAD] [PAD] [PAD] [PAD] [PAD] [PAD] [PAD] [PAD] [PAD] [PAD] [PAD] [PAD] [PAD] [PAD] [PAD] [PAD] [PAD] [PAD] [PAD] [PAD] [PAD] [PAD] [PAD] [PAD] [PAD] [PAD] [PAD] [PAD] [PAD] [PAD] [PAD] [PAD] [PAD] [PAD] [PAD] [PAD] [PAD] [PAD] [PAD] [PAD]\n",
            "True Label: 0\n",
            "Predicted: Negative (Confidence: 98.30%)\n",
            "\n",
            "Example 2 [✓]\n",
            "Text: [CLS] the operating margin of aker yards cruise & ferries division went down from 8. 3 % to 6. 4 % in the first quarter of 2007. [SEP] [PAD] [PAD] [PAD] [PAD] [PAD] [PAD] [PAD] [PAD] [PAD] [PAD] [PAD] [PAD] [PAD] [PAD] [PAD] [PAD] [PAD] [PAD] [PAD] [PAD] [PAD] [PAD] [PAD] [PAD] [PAD] [PAD] [PAD] [PAD] [PAD] [PAD] [PAD] [PAD] [PAD] [PAD] [PAD] [PAD] [PAD] [PAD] [PAD] [PAD] [PAD] [PAD] [PAD] [PAD] [PAD] [PAD] [PAD] [PAD] [PAD] [PAD] [PAD] [PAD] [PAD] [PAD] [PAD] [PAD] [PAD] [PAD] [PAD] [PAD] [PAD] [PAD] [PAD] [PAD] [PAD] [PAD] [PAD] [PAD] [PAD] [PAD] [PAD] [PAD] [PAD] [PAD] [PAD] [PAD] [PAD] [PAD] [PAD] [PAD] [PAD] [PAD] [PAD] [PAD] [PAD] [PAD] [PAD] [PAD] [PAD] [PAD] [PAD] [PAD] [PAD] [PAD] [PAD] [PAD]\n",
            "True Label: 0\n",
            "Predicted: Negative (Confidence: 98.23%)\n",
            "\n",
            "Example 3 [✓]\n",
            "Text: [CLS] pretax loss totaled eur 1. 2 mn, down from a profit of eur 2. 1 mn in 2004. [SEP] [PAD] [PAD] [PAD] [PAD] [PAD] [PAD] [PAD] [PAD] [PAD] [PAD] [PAD] [PAD] [PAD] [PAD] [PAD] [PAD] [PAD] [PAD] [PAD] [PAD] [PAD] [PAD] [PAD] [PAD] [PAD] [PAD] [PAD] [PAD] [PAD] [PAD] [PAD] [PAD] [PAD] [PAD] [PAD] [PAD] [PAD] [PAD] [PAD] [PAD] [PAD] [PAD] [PAD] [PAD] [PAD] [PAD] [PAD] [PAD] [PAD] [PAD] [PAD] [PAD] [PAD] [PAD] [PAD] [PAD] [PAD] [PAD] [PAD] [PAD] [PAD] [PAD] [PAD] [PAD] [PAD] [PAD] [PAD] [PAD] [PAD] [PAD] [PAD] [PAD] [PAD] [PAD] [PAD] [PAD] [PAD] [PAD] [PAD] [PAD] [PAD] [PAD] [PAD] [PAD] [PAD] [PAD] [PAD] [PAD] [PAD] [PAD] [PAD] [PAD] [PAD] [PAD] [PAD] [PAD] [PAD] [PAD] [PAD] [PAD]\n",
            "True Label: 0\n",
            "Predicted: Negative (Confidence: 97.80%)\n",
            "\n",
            "Example 4 [✓]\n",
            "Text: [CLS] in the baltic states the company reports net sales of eur 11. 9 mn, down from eur 14. 2 mn, and an operative ebit of eur - 2. 2 mn, down from eur - 1. 7 mn. [SEP] [PAD] [PAD] [PAD] [PAD] [PAD] [PAD] [PAD] [PAD] [PAD] [PAD] [PAD] [PAD] [PAD] [PAD] [PAD] [PAD] [PAD] [PAD] [PAD] [PAD] [PAD] [PAD] [PAD] [PAD] [PAD] [PAD] [PAD] [PAD] [PAD] [PAD] [PAD] [PAD] [PAD] [PAD] [PAD] [PAD] [PAD] [PAD] [PAD] [PAD] [PAD] [PAD] [PAD] [PAD] [PAD] [PAD] [PAD] [PAD] [PAD] [PAD] [PAD] [PAD] [PAD] [PAD] [PAD] [PAD] [PAD] [PAD] [PAD] [PAD] [PAD] [PAD] [PAD] [PAD] [PAD] [PAD] [PAD] [PAD] [PAD] [PAD] [PAD] [PAD] [PAD] [PAD] [PAD] [PAD]\n",
            "True Label: 0\n",
            "Predicted: Negative (Confidence: 97.66%)\n",
            "\n",
            "Example 5 [✓]\n",
            "Text: [CLS] operating profit, excluding non - recurring items, totalled eur 2. 2 mn, down from eur 2. 7 mn in the corresponding period in 2008. [SEP] [PAD] [PAD] [PAD] [PAD] [PAD] [PAD] [PAD] [PAD] [PAD] [PAD] [PAD] [PAD] [PAD] [PAD] [PAD] [PAD] [PAD] [PAD] [PAD] [PAD] [PAD] [PAD] [PAD] [PAD] [PAD] [PAD] [PAD] [PAD] [PAD] [PAD] [PAD] [PAD] [PAD] [PAD] [PAD] [PAD] [PAD] [PAD] [PAD] [PAD] [PAD] [PAD] [PAD] [PAD] [PAD] [PAD] [PAD] [PAD] [PAD] [PAD] [PAD] [PAD] [PAD] [PAD] [PAD] [PAD] [PAD] [PAD] [PAD] [PAD] [PAD] [PAD] [PAD] [PAD] [PAD] [PAD] [PAD] [PAD] [PAD] [PAD] [PAD] [PAD] [PAD] [PAD] [PAD] [PAD] [PAD] [PAD] [PAD] [PAD] [PAD] [PAD] [PAD] [PAD] [PAD] [PAD] [PAD] [PAD] [PAD] [PAD] [PAD] [PAD] [PAD]\n",
            "True Label: 0\n",
            "Predicted: Negative (Confidence: 97.61%)\n",
            "\n",
            "Example 6 [✓]\n",
            "Text: [CLS] the group ' s operating loss was eur 0. 8 mn, down from a profit of eur 2. 5 mn in 2004. [SEP] [PAD] [PAD] [PAD] [PAD] [PAD] [PAD] [PAD] [PAD] [PAD] [PAD] [PAD] [PAD] [PAD] [PAD] [PAD] [PAD] [PAD] [PAD] [PAD] [PAD] [PAD] [PAD] [PAD] [PAD] [PAD] [PAD] [PAD] [PAD] [PAD] [PAD] [PAD] [PAD] [PAD] [PAD] [PAD] [PAD] [PAD] [PAD] [PAD] [PAD] [PAD] [PAD] [PAD] [PAD] [PAD] [PAD] [PAD] [PAD] [PAD] [PAD] [PAD] [PAD] [PAD] [PAD] [PAD] [PAD] [PAD] [PAD] [PAD] [PAD] [PAD] [PAD] [PAD] [PAD] [PAD] [PAD] [PAD] [PAD] [PAD] [PAD] [PAD] [PAD] [PAD] [PAD] [PAD] [PAD] [PAD] [PAD] [PAD] [PAD] [PAD] [PAD] [PAD] [PAD] [PAD] [PAD] [PAD] [PAD] [PAD] [PAD] [PAD] [PAD] [PAD] [PAD] [PAD] [PAD] [PAD] [PAD]\n",
            "True Label: 0\n",
            "Predicted: Negative (Confidence: 97.48%)\n",
            "\n",
            "Example 7 [✓]\n",
            "Text: [CLS] the finnish national carrier said net loss in april through june was euro26 million, down from a net profit of euro13 million a year earlier. [SEP] [PAD] [PAD] [PAD] [PAD] [PAD] [PAD] [PAD] [PAD] [PAD] [PAD] [PAD] [PAD] [PAD] [PAD] [PAD] [PAD] [PAD] [PAD] [PAD] [PAD] [PAD] [PAD] [PAD] [PAD] [PAD] [PAD] [PAD] [PAD] [PAD] [PAD] [PAD] [PAD] [PAD] [PAD] [PAD] [PAD] [PAD] [PAD] [PAD] [PAD] [PAD] [PAD] [PAD] [PAD] [PAD] [PAD] [PAD] [PAD] [PAD] [PAD] [PAD] [PAD] [PAD] [PAD] [PAD] [PAD] [PAD] [PAD] [PAD] [PAD] [PAD] [PAD] [PAD] [PAD] [PAD] [PAD] [PAD] [PAD] [PAD] [PAD] [PAD] [PAD] [PAD] [PAD] [PAD] [PAD] [PAD] [PAD] [PAD] [PAD] [PAD] [PAD] [PAD] [PAD] [PAD] [PAD] [PAD] [PAD] [PAD] [PAD] [PAD] [PAD] [PAD] [PAD] [PAD] [PAD] [PAD]\n",
            "True Label: 0\n",
            "Predicted: Negative (Confidence: 97.03%)\n",
            "\n",
            "Example 8 [✓]\n",
            "Text: [CLS] total value of the contract is about eur 10mn. [SEP] [PAD] [PAD] [PAD] [PAD] [PAD] [PAD] [PAD] [PAD] [PAD] [PAD] [PAD] [PAD] [PAD] [PAD] [PAD] [PAD] [PAD] [PAD] [PAD] [PAD] [PAD] [PAD] [PAD] [PAD] [PAD] [PAD] [PAD] [PAD] [PAD] [PAD] [PAD] [PAD] [PAD] [PAD] [PAD] [PAD] [PAD] [PAD] [PAD] [PAD] [PAD] [PAD] [PAD] [PAD] [PAD] [PAD] [PAD] [PAD] [PAD] [PAD] [PAD] [PAD] [PAD] [PAD] [PAD] [PAD] [PAD] [PAD] [PAD] [PAD] [PAD] [PAD] [PAD] [PAD] [PAD] [PAD] [PAD] [PAD] [PAD] [PAD] [PAD] [PAD] [PAD] [PAD] [PAD] [PAD] [PAD] [PAD] [PAD] [PAD] [PAD] [PAD] [PAD] [PAD] [PAD] [PAD] [PAD] [PAD] [PAD] [PAD] [PAD] [PAD] [PAD] [PAD] [PAD] [PAD] [PAD] [PAD] [PAD] [PAD] [PAD] [PAD] [PAD] [PAD] [PAD] [PAD] [PAD] [PAD] [PAD] [PAD] [PAD] [PAD] [PAD]\n",
            "True Label: 1\n",
            "Predicted: Neutral (Confidence: 96.30%)\n",
            "\n",
            "Example 9 [✓]\n",
            "Text: [CLS] pretax loss totalled eur 49. 9 mn, compared to a loss of eur 15. 4 mn in the corresponding period in 2008. [SEP] [PAD] [PAD] [PAD] [PAD] [PAD] [PAD] [PAD] [PAD] [PAD] [PAD] [PAD] [PAD] [PAD] [PAD] [PAD] [PAD] [PAD] [PAD] [PAD] [PAD] [PAD] [PAD] [PAD] [PAD] [PAD] [PAD] [PAD] [PAD] [PAD] [PAD] [PAD] [PAD] [PAD] [PAD] [PAD] [PAD] [PAD] [PAD] [PAD] [PAD] [PAD] [PAD] [PAD] [PAD] [PAD] [PAD] [PAD] [PAD] [PAD] [PAD] [PAD] [PAD] [PAD] [PAD] [PAD] [PAD] [PAD] [PAD] [PAD] [PAD] [PAD] [PAD] [PAD] [PAD] [PAD] [PAD] [PAD] [PAD] [PAD] [PAD] [PAD] [PAD] [PAD] [PAD] [PAD] [PAD] [PAD] [PAD] [PAD] [PAD] [PAD] [PAD] [PAD] [PAD] [PAD] [PAD] [PAD] [PAD] [PAD] [PAD] [PAD] [PAD] [PAD] [PAD] [PAD]\n",
            "True Label: 0\n",
            "Predicted: Negative (Confidence: 96.25%)\n",
            "\n",
            "Example 10 [✓]\n",
            "Text: [CLS] operating profit decreased to nearly eur 1. 7 mn, however. [SEP] [PAD] [PAD] [PAD] [PAD] [PAD] [PAD] [PAD] [PAD] [PAD] [PAD] [PAD] [PAD] [PAD] [PAD] [PAD] [PAD] [PAD] [PAD] [PAD] [PAD] [PAD] [PAD] [PAD] [PAD] [PAD] [PAD] [PAD] [PAD] [PAD] [PAD] [PAD] [PAD] [PAD] [PAD] [PAD] [PAD] [PAD] [PAD] [PAD] [PAD] [PAD] [PAD] [PAD] [PAD] [PAD] [PAD] [PAD] [PAD] [PAD] [PAD] [PAD] [PAD] [PAD] [PAD] [PAD] [PAD] [PAD] [PAD] [PAD] [PAD] [PAD] [PAD] [PAD] [PAD] [PAD] [PAD] [PAD] [PAD] [PAD] [PAD] [PAD] [PAD] [PAD] [PAD] [PAD] [PAD] [PAD] [PAD] [PAD] [PAD] [PAD] [PAD] [PAD] [PAD] [PAD] [PAD] [PAD] [PAD] [PAD] [PAD] [PAD] [PAD] [PAD] [PAD] [PAD] [PAD] [PAD] [PAD] [PAD] [PAD] [PAD] [PAD] [PAD] [PAD] [PAD] [PAD] [PAD] [PAD] [PAD] [PAD] [PAD] [PAD]\n",
            "True Label: 0\n",
            "Predicted: Negative (Confidence: 95.75%)\n",
            "\n",
            "Negative Class Accuracy: 0.6379\n",
            "\n",
            "Neutral Class Accuracy: 0.7022\n",
            "\n",
            "Positive Class Accuracy: 0.4689\n",
            "\n",
            "Overall Accuracy: 0.6289\n"
          ]
        }
      ]
    },
    {
      "cell_type": "code",
      "source": [
        " def predict_sentiment(model, tokenizer, sentence, device):\n",
        "    # Set model to evaluation mode\n",
        "    model.eval()\n",
        "\n",
        "    # Tokenize the sentence\n",
        "    inputs = tokenizer(\n",
        "        sentence,\n",
        "        padding=\"max_length\",\n",
        "        truncation=True,\n",
        "        max_length=128,\n",
        "        return_tensors=\"pt\"\n",
        "    )\n",
        "\n",
        "    # Move inputs to device\n",
        "    input_ids = inputs['input_ids'].to(device)\n",
        "    attention_mask = inputs['attention_mask'].to(device)\n",
        "\n",
        "    # Get prediction\n",
        "    with torch.no_grad():\n",
        "        outputs = model(input_ids, attention_mask)\n",
        "        _, predicted = torch.max(outputs, 1)\n",
        "\n",
        "        # Get probability scores\n",
        "        probabilities = torch.nn.functional.softmax(outputs, dim=1)\n",
        "        confidence = torch.max(probabilities).item()\n",
        "\n",
        "    # Convert prediction to sentiment\n",
        "    sentiment_map = {0: \"Negative\", 1: \"Neutral\", 2: \"Positive\"}\n",
        "    predicted_sentiment = sentiment_map[predicted.item()]\n",
        "\n",
        "    return predicted_sentiment, confidence"
      ],
      "metadata": {
        "id": "s0LI1N0gQ_FT"
      },
      "execution_count": null,
      "outputs": []
    },
    {
      "cell_type": "markdown",
      "source": [
        "## Test the Model with a Sentence"
      ],
      "metadata": {
        "id": "5v_VDXhFZfAe"
      }
    },
    {
      "cell_type": "code",
      "source": [
        "sentence = \"Earnings are declining 0.5 percent compared to last quarter\"\n",
        "\n",
        "sentiment, confidence = predict_sentiment(model, tokenizer, sentence, device)\n",
        "\n",
        "print(f\"Sentnence: {sentence}\\nSentiment: {sentiment}\")\n"
      ],
      "metadata": {
        "colab": {
          "base_uri": "https://localhost:8080/"
        },
        "id": "D9sfz0KMYZDp",
        "outputId": "a43f634e-776b-4663-e682-7814e82bb558"
      },
      "execution_count": null,
      "outputs": [
        {
          "output_type": "stream",
          "name": "stdout",
          "text": [
            "Sentnence: Earnings are declining 0.5 percent compared to last quarter\n",
            "Sentiment: Negative\n"
          ]
        }
      ]
    }
  ],
  "metadata": {
    "kernelspec": {
      "display_name": "Python 3 (ipykernel)",
      "language": "python",
      "name": "python3"
    },
    "language_info": {
      "codemirror_mode": {
        "name": "ipython",
        "version": 3
      },
      "file_extension": ".py",
      "mimetype": "text/x-python",
      "name": "python",
      "nbconvert_exporter": "python",
      "pygments_lexer": "ipython3",
      "version": "3.10.5"
    },
    "colab": {
      "provenance": []
    }
  },
  "nbformat": 4,
  "nbformat_minor": 0
}